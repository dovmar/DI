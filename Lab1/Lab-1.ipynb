{
 "cells": [
  {
   "cell_type": "code",
   "execution_count": 106,
   "id": "bc5fbb66",
   "metadata": {},
   "outputs": [],
   "source": [
    "import numpy as np\n",
    "import math\n",
    "\n",
    "# turimi duomenys\n",
    "data = [[-0.3,0.6,0],\n",
    "        [0.3,-0.6,0],\n",
    "        [1.2,-1.2,1],\n",
    "        [1.2,1.2,1]]\n",
    "\n",
    "# sudaromos svorių kombinacijos kiekvienam kintant nuo -10 iki 10 (viso 200*200*200 galimų variantų)\n",
    "weights = [(i,j,k) \n",
    "     for i in np.arange(-10, 10, 0.1) \n",
    "     for j in np.arange(-10, 10, 0.1)\n",
    "     for k in np.arange(-10, 10, 0.1)]"
   ]
  },
  {
   "cell_type": "markdown",
   "id": "b4556473",
   "metadata": {},
   "source": [
    "### Slenksninė aktyvacijos f-ja"
   ]
  },
  {
   "cell_type": "code",
   "execution_count": 136,
   "id": "45101239",
   "metadata": {},
   "outputs": [],
   "source": [
    "# su kiekviena duomenų eilute išsaugoma su kuriais svorių rinkiniais gaunama teisinga dirbtinio neurono išvestis\n",
    "def weight_check_threshold(row,weights):\n",
    "    valid = []\n",
    "    for weight in weights:\n",
    "        a = weight[0] + row[0]*weight[1] + row[1]*weight[2] \n",
    "        if (row[2] == 0 and a < 0) or (row[2] == 1 and a >= 0):\n",
    "            valid.append(weight)\n",
    "    return valid"
   ]
  },
  {
   "cell_type": "code",
   "execution_count": 137,
   "id": "3b94ea9f",
   "metadata": {},
   "outputs": [],
   "source": [
    "# kiekvienai eilutei paduodami visoms prieš tai tikrintoms eilutėms tikę svorių rinkiniai\n",
    "valid_weights_threshold = weights\n",
    "solution = []\n",
    "for row in data:\n",
    "    solution = weight_check_threshold(row,valid_weights_threshold)\n",
    "    valid_weights_threshold = solution\n",
    "\n",
    "valid_weights_threshold = [(round(i,1),round(j,1),round(k,1)) for (i,j,k) in solution]"
   ]
  },
  {
   "cell_type": "code",
   "execution_count": 109,
   "id": "39255802",
   "metadata": {},
   "outputs": [
    {
     "name": "stdout",
     "output_type": "stream",
     "text": [
      "228000\n",
      "0.0285\n"
     ]
    },
    {
     "data": {
      "text/plain": [
       "[(-3.4, 7.2, -1.3),\n",
       " (-4.3, 7.3, 0.8),\n",
       " (-3.4, 9.4, -0.6),\n",
       " (-6.0, 8.8, 0.8),\n",
       " (-1.9, 6.8, 2.5)]"
      ]
     },
     "execution_count": 109,
     "metadata": {},
     "output_type": "execute_result"
    }
   ],
   "source": [
    "import random\n",
    "print(len(valid_weights_threshold)) # tikusių svorių rinkinių skaičius\n",
    "print(len(valid_weights_threshold) / 200**3) # dalis tikusių iš visų tikrintų svorių rinkinių\n",
    "\n",
    "\n",
    "random.seed(10)\n",
    "random.choices(valid_weights_threshold,k=5)"
   ]
  },
  {
   "cell_type": "markdown",
   "id": "5973307a",
   "metadata": {},
   "source": [
    "### Sigmoidinė aktyvacijos f-ja"
   ]
  },
  {
   "cell_type": "code",
   "execution_count": 141,
   "id": "161ec848",
   "metadata": {},
   "outputs": [],
   "source": [
    "def weight_check_sigmoid(row,weights):\n",
    "    valid = []\n",
    "    for weight in weights:\n",
    "        a = weight[0] + row[0]*weight[1] + row[1]*weight[2] \n",
    "        \n",
    "        fa = 1/(1+math.exp(-a))\n",
    "        \n",
    "        if fa > 0.9:\n",
    "            fa = 1\n",
    "        if fa < 0.1:\n",
    "            fa = 0\n",
    "        \n",
    "        if fa == row[-1]:\n",
    "            valid.append(weight)\n",
    "    return valid"
   ]
  },
  {
   "cell_type": "code",
   "execution_count": 142,
   "id": "c855a9d2",
   "metadata": {},
   "outputs": [],
   "source": [
    "valid_weights_sigmoid = weights\n",
    "solution = []\n",
    "for row in data:\n",
    "    solution = weight_check_sigmoid(row,valid_weights_sigmoid)\n",
    "    valid_weights_sigmoid = solution\n",
    "\n",
    "valid_weights_sigmoid = [(round(i,1),round(j,1),round(k,1)) for (i,j,k) in solution]"
   ]
  },
  {
   "cell_type": "code",
   "execution_count": 143,
   "id": "a480848c",
   "metadata": {},
   "outputs": [
    {
     "name": "stdout",
     "output_type": "stream",
     "text": [
      "38053\n",
      "0.004756625\n"
     ]
    },
    {
     "data": {
      "text/plain": [
       "[(-5.0, 9.6, 0.5),\n",
       " (-5.5, 7.9, -0.1),\n",
       " (-4.9, 7.0, 0.4),\n",
       " (-6.5, 8.9, -0.4),\n",
       " (-3.9, 7.9, 1.2)]"
      ]
     },
     "execution_count": 143,
     "metadata": {},
     "output_type": "execute_result"
    }
   ],
   "source": [
    "print(len(valid_weights_sigmoid))\n",
    "print(len(valid_weights_sigmoid) / 200**3) \n",
    "\n",
    "random.seed(10)\n",
    "random.choices(valid_weights_sigmoid,k=5)"
   ]
  },
  {
   "cell_type": "code",
   "execution_count": 134,
   "id": "7caf5295",
   "metadata": {},
   "outputs": [
    {
     "data": {
      "text/plain": [
       "(-7.4, 8.9, -2.5)"
      ]
     },
     "execution_count": 134,
     "metadata": {},
     "output_type": "execute_result"
    }
   ],
   "source": [
    "valid_weights_sigmoid[20000]"
   ]
  },
  {
   "cell_type": "code",
   "execution_count": 135,
   "id": "56d3c376",
   "metadata": {},
   "outputs": [
    {
     "data": {
      "text/plain": [
       "(-7.4, 8.9, -2.5)"
      ]
     },
     "execution_count": 135,
     "metadata": {},
     "output_type": "execute_result"
    }
   ],
   "source": [
    "valid_weights_threshold[20000]"
   ]
  },
  {
   "cell_type": "code",
   "execution_count": null,
   "id": "90e103fa",
   "metadata": {},
   "outputs": [],
   "source": []
  }
 ],
 "metadata": {
  "kernelspec": {
   "display_name": "Python 3 (ipykernel)",
   "language": "python",
   "name": "python3"
  },
  "language_info": {
   "codemirror_mode": {
    "name": "ipython",
    "version": 3
   },
   "file_extension": ".py",
   "mimetype": "text/x-python",
   "name": "python",
   "nbconvert_exporter": "python",
   "pygments_lexer": "ipython3",
   "version": "3.9.7"
  }
 },
 "nbformat": 4,
 "nbformat_minor": 5
}
