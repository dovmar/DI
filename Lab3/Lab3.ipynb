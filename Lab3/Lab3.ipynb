{
 "cells": [
  {
   "cell_type": "code",
   "execution_count": 2,
   "id": "d402eaee",
   "metadata": {},
   "outputs": [],
   "source": [
    "from scipy.io import arff as sciarff\n",
    "import pandas as pd\n",
    "from sklearn.model_selection import train_test_split\n",
    "from collections import Counter\n",
    "\n",
    "data = sciarff.loadarff('iris.arff')\n",
    "df = pd.DataFrame(data[0])"
   ]
  },
  {
   "cell_type": "code",
   "execution_count": 3,
   "id": "0cf7ba82",
   "metadata": {},
   "outputs": [],
   "source": [
    "df.columns = [\"sepal_length\",\"sepal_width\",\"petal_length\",\"petal_width\",\"class\"]\n",
    "\n",
    "df = df.replace({b'Iris-setosa': 'setosa', b'Iris-virginica': 'virginica', b'Iris-versicolor' : 'versicolor'})\n",
    "train, test = train_test_split(df,train_size=0.8,test_size=0.2,stratify=df[\"class\"])\n"
   ]
  },
  {
   "cell_type": "code",
   "execution_count": 5,
   "id": "c88f6f4d",
   "metadata": {},
   "outputs": [
    {
     "data": {
      "text/plain": [
       "True"
      ]
     },
     "execution_count": 5,
     "metadata": {},
     "output_type": "execute_result"
    }
   ],
   "source": [
    "from pandas2arff import pandas2arff\n",
    "pandas2arff(train, \"iris_train_test.arff\", wekaname=\"iris_train_test\")\n",
    "pandas2arff(test, \"iris_new.arff\", wekaname=\"iris_new\")"
   ]
  },
  {
   "cell_type": "code",
   "execution_count": null,
   "id": "6fbd4f6d",
   "metadata": {},
   "outputs": [],
   "source": []
  }
 ],
 "metadata": {
  "kernelspec": {
   "display_name": "Python 3 (ipykernel)",
   "language": "python",
   "name": "python3"
  },
  "language_info": {
   "codemirror_mode": {
    "name": "ipython",
    "version": 3
   },
   "file_extension": ".py",
   "mimetype": "text/x-python",
   "name": "python",
   "nbconvert_exporter": "python",
   "pygments_lexer": "ipython3",
   "version": "3.9.7"
  }
 },
 "nbformat": 4,
 "nbformat_minor": 5
}
