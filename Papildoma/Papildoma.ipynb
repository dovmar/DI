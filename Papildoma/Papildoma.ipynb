{
 "cells": [
  {
   "cell_type": "code",
   "execution_count": 352,
   "id": "f93c6f8b",
   "metadata": {},
   "outputs": [],
   "source": [
    "import tensorflow as tf\n",
    "from tensorflow.keras import layers\n",
    "import matplotlib.pyplot as plt\n",
    "import numpy as np "
   ]
  },
  {
   "cell_type": "code",
   "execution_count": 518,
   "id": "3f0522c6",
   "metadata": {},
   "outputs": [],
   "source": [
    "# sudaro vieną partiją atsitiktinai prisirdamas ėjimus\n",
    "def one_random_game():\n",
    "    board = np.zeros((9,3,3))\n",
    "    \n",
    "    coin_toss = np.random.choice([-1,1])\n",
    "    \n",
    "    current_player = coin_toss\n",
    "\n",
    "    for turn in range(0,9):\n",
    "        if turn > 0:\n",
    "            board[turn,:,:] = board[turn-1,:,:]\n",
    "      \n",
    "        current_player = current_player * -1\n",
    "        \n",
    "        while True:\n",
    "            choice = np.random.randint(0, 9)\n",
    "            if board[turn,choice // 3, choice % 3] == 0:\n",
    "                board[turn,choice // 3, choice % 3] = current_player\n",
    "                break\n",
    "    return board"
   ]
  },
  {
   "cell_type": "code",
   "execution_count": 534,
   "id": "3319fcef",
   "metadata": {},
   "outputs": [],
   "source": [
    "# tikrina ar yra laimėtojas\n",
    "def check_winner(boards):\n",
    "    for i in boards:\n",
    "        results = np.concatenate((\n",
    "                        np.array([np.sum(np.diagonal(i))]),\n",
    "                        np.array([np.sum(np.diagonal(np.fliplr(i)))]),\n",
    "                        np.sum(i,1),\n",
    "                        np.sum(i,0)))\n",
    "\n",
    "        if np.any(np.isin(results,3)):\n",
    "            return 1\n",
    "        elif np.any(np.isin(results,-3)):\n",
    "            return -1\n",
    "        \n",
    "    return 0"
   ]
  },
  {
   "cell_type": "code",
   "execution_count": 535,
   "id": "e6da5182",
   "metadata": {},
   "outputs": [],
   "source": [
    "# simuliuoja n atsitiktinių partijų\n",
    "def simulate_games(n):\n",
    "    boards = []\n",
    "    winners = []\n",
    "    for i in range(0,n):\n",
    "        board = one_random_game()\n",
    "        boards.append(board)\n",
    "        winners.append(check_winner(board))\n",
    "    return boards, winners"
   ]
  },
  {
   "cell_type": "code",
   "execution_count": 689,
   "id": "714be7b8",
   "metadata": {},
   "outputs": [],
   "source": [
    "# paruošiami mokymo duomenys\n",
    "from sklearn.model_selection import train_test_split\n",
    "from sklearn.preprocessing import OneHotEncoder, LabelEncoder\n",
    "\n",
    "onehotencoder_X = OneHotEncoder()\n",
    "    \n",
    "onehotencoder_y = OneHotEncoder()\n",
    "onehotencoder_y.fit(np.array([-1,0,1]).reshape(-1,1))\n",
    "\n",
    "def create_data(n):\n",
    "    boards, winners = simulate_games(n)\n",
    "    X = []\n",
    "    for board in boards:\n",
    "        X.append(board[np.random.randint(0, 9)].flatten())\n",
    "    \n",
    "    # one-hot formatas rezultatui\n",
    "    y = onehotencoder_y.transform(np.array(winners).reshape(-1,1)).toarray()\n",
    "    \n",
    "    X_train, X_test, y_train, y_test = train_test_split(X,y,train_size=0.8,test_size=0.2)\n",
    "    \n",
    "    # one-hot formatas lentos būsenai\n",
    "    X_train = onehotencoder_X.fit_transform(X_train).toarray()\n",
    "    X_test = onehotencoder_X.transform(X_test).toarray()\n",
    "    X_train = np.delete(X_train, [0,3,6,9,12,15,18,21,24], axis=1)\n",
    "    X_test = np.delete(X_test, [0,3,6,9,12,15,18,21,24], axis=1)\n",
    "\n",
    "    return X_train, X_test, y_train, y_test"
   ]
  },
  {
   "cell_type": "code",
   "execution_count": 704,
   "id": "bccbbf53",
   "metadata": {},
   "outputs": [],
   "source": [
    "X_train, X_test, y_train, y_test = create_data(10000)"
   ]
  },
  {
   "cell_type": "code",
   "execution_count": 705,
   "id": "bc41f5ed",
   "metadata": {},
   "outputs": [],
   "source": [
    "inputs = tf.keras.Input(shape=(18,))\n",
    "\n",
    "x = layers.Dense(units=128, kernel_initializer='uniform', activation='relu')(inputs)\n",
    "x = layers.Dense(units=64, kernel_initializer='uniform', activation='relu')(x)\n",
    "output = layers.Dense(units=3, activation='softmax')(x)\n",
    "\n",
    "model = tf.keras.Model(inputs, output)\n",
    "model.compile(optimizer='adam', loss='categorical_crossentropy', metrics=['accuracy'])"
   ]
  },
  {
   "cell_type": "code",
   "execution_count": 706,
   "id": "0b52df98",
   "metadata": {
    "scrolled": true
   },
   "outputs": [
    {
     "name": "stdout",
     "output_type": "stream",
     "text": [
      "Epoch 1/15\n",
      "800/800 [==============================] - 4s 3ms/step - loss: 0.9665 - accuracy: 0.4990\n",
      "Epoch 2/15\n",
      "800/800 [==============================] - 3s 3ms/step - loss: 0.8925 - accuracy: 0.5386\n",
      "Epoch 3/15\n",
      "800/800 [==============================] - 2s 3ms/step - loss: 0.8194 - accuracy: 0.5870\n",
      "Epoch 4/15\n",
      "800/800 [==============================] - 1s 2ms/step - loss: 0.7692 - accuracy: 0.6339\n",
      "Epoch 5/15\n",
      "800/800 [==============================] - 2s 3ms/step - loss: 0.7302 - accuracy: 0.6526\n",
      "Epoch 6/15\n",
      "800/800 [==============================] - 2s 3ms/step - loss: 0.7036 - accuracy: 0.6619\n",
      "Epoch 7/15\n",
      "800/800 [==============================] - 1s 1ms/step - loss: 0.6899 - accuracy: 0.6705\n",
      "Epoch 8/15\n",
      "800/800 [==============================] - 1s 1ms/step - loss: 0.6753 - accuracy: 0.6770\n",
      "Epoch 9/15\n",
      "800/800 [==============================] - 2s 2ms/step - loss: 0.6675 - accuracy: 0.6805\n",
      "Epoch 10/15\n",
      "800/800 [==============================] - 2s 3ms/step - loss: 0.6612 - accuracy: 0.6800\n",
      "Epoch 11/15\n",
      "800/800 [==============================] - 1s 1ms/step - loss: 0.6528 - accuracy: 0.6837\n",
      "Epoch 12/15\n",
      "800/800 [==============================] - 1s 1ms/step - loss: 0.6466 - accuracy: 0.6865\n",
      "Epoch 13/15\n",
      "800/800 [==============================] - 2s 3ms/step - loss: 0.6434 - accuracy: 0.6900\n",
      "Epoch 14/15\n",
      "800/800 [==============================] - 2s 3ms/step - loss: 0.6377 - accuracy: 0.6942\n",
      "Epoch 15/15\n",
      "800/800 [==============================] - 1s 2ms/step - loss: 0.6310 - accuracy: 0.6976\n"
     ]
    }
   ],
   "source": [
    "history = model.fit(X_train,y_train, batch_size=10, epochs=15)"
   ]
  },
  {
   "cell_type": "code",
   "execution_count": 718,
   "id": "627bd5dc",
   "metadata": {},
   "outputs": [
    {
     "data": {
      "image/png": "[encoded data removed]",
      "text/plain": [
       "<Figure size 432x288 with 1 Axes>"
      ]
     },
     "metadata": {
      "needs_background": "light"
     },
     "output_type": "display_data"
    }
   ],
   "source": [
    "plt.plot(history.history['accuracy'], label='Mokymo duomenys')\n",
    "plt.xlabel('Epocha')\n",
    "plt.ylabel('Tikslumas')\n",
    "plt.legend(loc='lower right')\n",
    "plt.title(\"Tikslumas pagal epochą\")\n",
    "plt.show()"
   ]
  },
  {
   "cell_type": "code",
   "execution_count": 682,
   "id": "dd67c0b0",
   "metadata": {},
   "outputs": [],
   "source": [
    "def next_moves(current_board):\n",
    "    \n",
    "    n_possible_moves = np.where(current_board==0)[0].shape[0]\n",
    "    possible_moves = np.repeat(np.reshape(current_board,(1,3,3)),n_possible_moves,axis=0)\n",
    "    model_format = np.zeros((n_possible_moves,9))\n",
    "    \n",
    "    for i in range(len(possible_moves)):\n",
    "        possible_moves[i,np.where(current_board==0)[0][i],np.where(current_board==0)[1][i]] = -1\n",
    "        model_format[i,:] = possible_moves[i,:,:].flatten()\n",
    "        \n",
    "    return possible_moves, model_format"
   ]
  },
  {
   "cell_type": "code",
   "execution_count": 683,
   "id": "d7c93ab3",
   "metadata": {},
   "outputs": [],
   "source": [
    "# atspausdina tuo metu esančią lentą su 'X' ir 'O' \n",
    "def print_board(board):\n",
    "    board_print = np.empty_like(board,str)\n",
    "    board_print[board == 1] = 'X'\n",
    "    board_print[board == -1] = 'O'\n",
    "    print(board_print)"
   ]
  },
  {
   "cell_type": "code",
   "execution_count": 691,
   "id": "d6888146",
   "metadata": {},
   "outputs": [],
   "source": [
    "# skirta žaisti su apmokytu modeliu\n",
    "def play(model, verbose = True):\n",
    "    \n",
    "    board = np.zeros((3,3))\n",
    "    coin_toss = np.random.choice([-1,1]) \n",
    "    current_player = coin_toss\n",
    "\n",
    "    for i in range(0,9):\n",
    "\n",
    "        current_player = current_player * -1\n",
    "\n",
    "        if verbose:\n",
    "            print_board(board)\n",
    "\n",
    "        winner = check_winner(board.reshape(1,3,3))\n",
    "\n",
    "        if winner == 1:\n",
    "            print(\"\\nJūs laimėjote\")\n",
    "            return 1\n",
    "\n",
    "        elif winner == -1:\n",
    "            print(\"\\nJūs pralaimėjote\")\n",
    "            return -1\n",
    "\n",
    "        if current_player == 1:\n",
    "            while True:\n",
    "                row = int(input('Pasirinkite eilutę\\n'))\n",
    "                column = int(input('Pasirinkite stulpelį\\n'))\n",
    "                if board[row,column] != 0:\n",
    "                    print(\"Negalima, pasirinkite iš naujo!\\n\")\n",
    "                else:\n",
    "                    board[row,column] = 1\n",
    "                    break\n",
    "        else:\n",
    "            possible_moves, model_format = next_moves(board)\n",
    "\n",
    "            model_format = onehotencoder_X.transform(model_format).toarray()\n",
    "            model_format =  np.delete(model_format, [0,3,6,9,12,15,18,21,24], axis=1)\n",
    "\n",
    "            board = possible_moves[np.argmax(model.predict(model_format)[:,0])]\n",
    "\n",
    "        if i == 8:\n",
    "            print(\"\\nLygiosios\")\n",
    "            return 0"
   ]
  },
  {
   "cell_type": "code",
   "execution_count": null,
   "id": "e89c4848",
   "metadata": {},
   "outputs": [],
   "source": [
    "play(model)"
   ]
  },
  {
   "cell_type": "code",
   "execution_count": 724,
   "id": "9f5d6eff",
   "metadata": {},
   "outputs": [],
   "source": [
    "# skirta žaisti su apmokytu modeliu\n",
    "def play_random(model):\n",
    "    \n",
    "    board = np.zeros((3,3))\n",
    "    coin_toss = np.random.choice([-1,1]) \n",
    "    current_player = coin_toss\n",
    "\n",
    "    for i in range(0,9):\n",
    "\n",
    "        current_player = current_player * -1\n",
    "\n",
    "        winner = check_winner(board.reshape(1,3,3))\n",
    "\n",
    "        if winner == 1:\n",
    "            return 1\n",
    "\n",
    "        elif winner == -1:\n",
    "            return -1\n",
    "\n",
    "        if current_player == 1:\n",
    "            while True:\n",
    "                choice = np.random.randint(0, 9)\n",
    "                if board[choice // 3, choice % 3] == 0:\n",
    "                    board[choice // 3, choice % 3] = 1\n",
    "                    break\n",
    "        else:\n",
    "            possible_moves, model_format = next_moves(board)\n",
    "\n",
    "            model_format = onehotencoder_X.transform(model_format).toarray()\n",
    "            model_format =  np.delete(model_format, [0,3,6,9,12,15,18,21,24], axis=1)\n",
    "\n",
    "            board = possible_moves[np.argmax(model.predict(model_format)[:,0])]\n",
    "\n",
    "        if i == 8:\n",
    "            \n",
    "            return 0"
   ]
  },
  {
   "cell_type": "code",
   "execution_count": 729,
   "id": "91f980fc",
   "metadata": {},
   "outputs": [],
   "source": [
    "def play_n(n):\n",
    "    winners = []\n",
    "    for i in range(n):\n",
    "        winners.append(play_random(model))\n",
    "    print(\"Modelis laimėjo \" + str(np.sum(np.array(winners)==-1)/n*100) + \"%\")\n",
    "    print(\"Lygiosios \" + str(np.sum(np.array(winners)==0)/n*100) + \"%\")"
   ]
  },
  {
   "cell_type": "code",
   "execution_count": 732,
   "id": "a64f6481",
   "metadata": {},
   "outputs": [
    {
     "name": "stdout",
     "output_type": "stream",
     "text": [
      "Modelis laimėjo 93.0%\n",
      "Lygiosios 1.0%\n"
     ]
    }
   ],
   "source": [
    "play_n(100)"
   ]
  },
  {
   "cell_type": "code",
   "execution_count": null,
   "id": "9b195e48",
   "metadata": {},
   "outputs": [],
   "source": []
  }
 ],
 "metadata": {
  "kernelspec": {
   "display_name": "Python 3 (ipykernel)",
   "language": "python",
   "name": "python3"
  },
  "language_info": {
   "codemirror_mode": {
    "name": "ipython",
    "version": 3
   },
   "file_extension": ".py",
   "mimetype": "text/x-python",
   "name": "python",
   "nbconvert_exporter": "python",
   "pygments_lexer": "ipython3",
   "version": "3.9.7"
  }
 },
 "nbformat": 4,
 "nbformat_minor": 5
}
